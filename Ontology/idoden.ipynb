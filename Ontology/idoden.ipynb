{
 "cells": [
  {
   "cell_type": "code",
   "execution_count": 19,
   "metadata": {},
   "outputs": [
    {
     "data": {
      "text/html": [
       "<div class=\"krn-spql\"><div class=\"magic\">Endpoint set to: http://sparql.bioontology.org/sparql</div><div class=\"magic\">Display: table</div><div class=\"magic\">Result maximum size: unlimited</div><div class=\"magic\">Return format: ANY</div></div>"
      ],
      "text/plain": [
       "Endpoint set to: http://sparql.bioontology.org/sparql\n",
       "Display: table\n",
       "Result maximum size: unlimited\n",
       "Return format: ANY\n"
      ]
     },
     "metadata": {},
     "output_type": "display_data"
    }
   ],
   "source": [
    "%endpoint http://sparql.bioontology.org/sparql\n",
    "%display table\n",
    "%show all\n",
    "%format any"
   ]
  },
  {
   "cell_type": "markdown",
   "metadata": {},
   "source": [
    "## SPARQL para a Ontologia IDODEN"
   ]
  },
  {
   "cell_type": "code",
   "execution_count": 20,
   "metadata": {},
   "outputs": [
    {
     "data": {
      "text/html": [
       "<div class=\"krn-spql\"><div class=\"krn-error\"><span class=\"title\">Error:</span> Query processing error: HTTP Error 403: FORBIDDEN</div></div>"
      ],
      "text/plain": [
       "Error: Query processing error: HTTP Error 403: FORBIDDEN"
      ]
     },
     "metadata": {},
     "output_type": "display_data"
    }
   ],
   "source": [
    "PREFIX meta: <http://bioportal.bioontology.org/metadata/def/> \n",
    "\n",
    "SELECT DISTINCT ?version ?graph\n",
    "WHERE { \n",
    "    ?version meta:hasDataGraph ?graph\n",
    "}"
   ]
  },
  {
   "cell_type": "code",
   "execution_count": 11,
   "metadata": {},
   "outputs": [
    {
     "data": {
      "text/html": [
       "<div class=\"krn-spql\"><div class=\"krn-error\"><span class=\"title\">Error:</span> SPARQL error: EndPointInternalError: endpoint returned code 500 and response. <br/><br/>Response:<br/>b&quot;500 Internal Server Error\\nIf you are the administrator of this website, then please read this web application's log file and/or the web server's log file to find out what went wrong.&quot;</div></div>"
      ],
      "text/plain": [
       "Error: SPARQL error: EndPointInternalError: endpoint returned code 500 and response. \n",
       "\n",
       "Response:\n",
       "b\"500 Internal Server Error\\nIf you are the administrator of this website, then please read this web application's log file and/or the web server's log file to find out what went wrong.\""
      ]
     },
     "metadata": {},
     "output_type": "display_data"
    }
   ],
   "source": [
    "select * from <https://bioportal.bioontology.org/ontologies/IDODEN>"
   ]
  },
  {
   "cell_type": "markdown",
   "metadata": {},
   "source": [
    "## Testando SPAQL com o exemplo do Prof."
   ]
  },
  {
   "cell_type": "code",
   "execution_count": 1,
   "metadata": {},
   "outputs": [
    {
     "data": {
      "text/html": [
       "<div class=\"krn-spql\"><div class=\"magic\">Endpoint set to: http://id.nlm.nih.gov/mesh/sparql</div><div class=\"magic\">Display: table</div><div class=\"magic\">Result maximum size: unlimited</div></div>"
      ],
      "text/plain": [
       "Endpoint set to: http://id.nlm.nih.gov/mesh/sparql\n",
       "Display: table\n",
       "Result maximum size: unlimited\n"
      ]
     },
     "metadata": {},
     "output_type": "display_data"
    }
   ],
   "source": [
    "%endpoint http://id.nlm.nih.gov/mesh/sparql\n",
    "%display table\n",
    "%show all"
   ]
  },
  {
   "cell_type": "code",
   "execution_count": 2,
   "metadata": {},
   "outputs": [
    {
     "data": {
      "text/html": [
       "<div class=\"krn-spql\"><table><tr class=hdr><th>entity</th></tr><tr class=odd><td class=val><a href=\"http://id.nlm.nih.gov/mesh/D009203\" target=\"_other\">http://id.nlm.nih.gov/mesh/D009203</a></td></tr><tr class=even><td class=val><a href=\"http://id.nlm.nih.gov/mesh/M0014340\" target=\"_other\">http://id.nlm.nih.gov/mesh/M0014340</a></td></tr></table><div class=\"tinfo\">Total: 2, Shown: 2</div></div>"
      ]
     },
     "metadata": {},
     "output_type": "display_data"
    }
   ],
   "source": [
    "PREFIX rdfs: <http://www.w3.org/2000/01/rdf-schema#>\n",
    "\n",
    "SELECT ?entity\n",
    "FROM <http://id.nlm.nih.gov/mesh>\n",
    "WHERE {\n",
    "    ?entity rdfs:label \"Myocardial Infarction\"@en\n",
    "}"
   ]
  },
  {
   "cell_type": "code",
   "execution_count": null,
   "metadata": {},
   "outputs": [],
   "source": []
  }
 ],
 "metadata": {
  "kernelspec": {
   "display_name": "SPARQL",
   "language": "sparql",
   "name": "sparql"
  },
  "language_info": {
   "codemirror_mode": {
    "name": "sparql"
   },
   "mimetype": "application/sparql-query",
   "name": "sparql",
   "pygments_lexer": "sparql-nb"
  }
 },
 "nbformat": 4,
 "nbformat_minor": 2
}
