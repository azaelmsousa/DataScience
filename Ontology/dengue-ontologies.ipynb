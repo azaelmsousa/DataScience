{
 "cells": [
  {
   "cell_type": "markdown",
   "metadata": {},
   "source": [
    "# SPARQL queries related to Dengue using different ontologies\n",
    "\n",
    "### This notebook is one of the approaches used into a data science project"
   ]
  },
  {
   "cell_type": "markdown",
   "metadata": {},
   "source": [
    "####  Checking the SPARQL kernel properties "
   ]
  },
  {
   "cell_type": "code",
   "execution_count": 1,
   "metadata": {},
   "outputs": [
    {
     "data": {
      "text/html": [
       "<div class=\"krn-spql\"><div class=\"magic-help\">Available magics:<br/>%auth  %display  %endpoint  %format  %graph  %header  %lang  %log  %lsmagics  %outfile  %prefix  %qparam  %show<br/><br/>%auth (basic|digest|none) &lt;username&gt; &lt;passwd&gt; : send HTTP authentication<br/>%display raw | table [withtypes] | diagram [svg|png] [withliterals] : set display format<br/>%endpoint &lt;url&gt; : set SPARQL endpoint. **REQUIRED**<br/>%format JSON | N3 | XML | any | default : set requested result format<br/>%graph &lt;uri&gt; : set default graph for the queries<br/>%header &lt;string&gt; | OFF : add a persistent header line before the query, or delete all defined headers<br/>%lang &lt;lang&gt; [...] | default | all : language(s) preferred for labels<br/>%log critical | error | warning | info | debug : set logging level<br/>%lsmagics  : list all magics<br/>%outfile &lt;filename&gt; | NONE : save raw output to a file (use &quot;%d&quot; in name to add cell number, &quot;NONE&quot; to cancel saving)<br/>%prefix &lt;name&gt; [&lt;uri&gt;] : set (or delete) a persistent URI prefix for all queries<br/>%qparam &lt;name&gt; [&lt;value&gt;] : add (or delete) a persistent custom parameter to the endpoint query<br/>%show &lt;n&gt; | all : maximum number of shown results</div></div>"
      ],
      "text/plain": [
       "Available magics:\n",
       "%auth  %display  %endpoint  %format  %graph  %header  %lang  %log  %lsmagics  %outfile  %prefix  %qparam  %show\n",
       "\n",
       "%auth (basic|digest|none) <username> <passwd> : send HTTP authentication\n",
       "%display raw | table [withtypes] | diagram [svg|png] [withliterals] : set display format\n",
       "%endpoint <url> : set SPARQL endpoint. **REQUIRED**\n",
       "%format JSON | N3 | XML | any | default : set requested result format\n",
       "%graph <uri> : set default graph for the queries\n",
       "%header <string> | OFF : add a persistent header line before the query, or delete all defined headers\n",
       "%lang <lang> [...] | default | all : language(s) preferred for labels\n",
       "%log critical | error | warning | info | debug : set logging level\n",
       "%lsmagics  : list all magics\n",
       "%outfile <filename> | NONE : save raw output to a file (use \"%d\" in name to add cell number, \"NONE\" to cancel saving)\n",
       "%prefix <name> [<uri>] : set (or delete) a persistent URI prefix for all queries\n",
       "%qparam <name> [<value>] : add (or delete) a persistent custom parameter to the endpoint query\n",
       "%show <n> | all : maximum number of shown results\n"
      ]
     },
     "metadata": {},
     "output_type": "display_data"
    }
   ],
   "source": [
    "%lsmagic"
   ]
  },
  {
   "cell_type": "markdown",
   "metadata": {},
   "source": [
    "## Setup MESH (Medical Subject Headings) Ontology endpoint"
   ]
  },
  {
   "cell_type": "code",
   "execution_count": 2,
   "metadata": {},
   "outputs": [
    {
     "data": {
      "text/html": [
       "<div class=\"krn-spql\"><div class=\"magic\">Endpoint set to: http://id.nlm.nih.gov/mesh/sparql</div><div class=\"magic\">Display: table</div><div class=\"magic\">Result maximum size: unlimited</div></div>"
      ],
      "text/plain": [
       "Endpoint set to: http://id.nlm.nih.gov/mesh/sparql\n",
       "Display: table\n",
       "Result maximum size: unlimited\n"
      ]
     },
     "metadata": {},
     "output_type": "display_data"
    }
   ],
   "source": [
    "%endpoint http://id.nlm.nih.gov/mesh/sparql\n",
    "%display table\n",
    "%show all"
   ]
  },
  {
   "cell_type": "markdown",
   "metadata": {},
   "source": [
    "## Get \"Dengue\" definition from MESH"
   ]
  },
  {
   "cell_type": "code",
   "execution_count": 3,
   "metadata": {},
   "outputs": [
    {
     "data": {
      "text/html": [
       "<div class=\"krn-spql\"><table><tr class=hdr><th>label</th>\n",
       "<th>definition</th></tr><tr class=odd><td class=val>Dengue</td>\n",
       "<td class=val>An acute febrile disease transmitted by the bite of AEDES mosquitoes infected with DENGUE VIRUS. It is self-limiting and characterized by fever, myalgia, headache, and rash. SEVERE DENGUE is a more virulent form of dengue.</td></tr></table><div class=\"tinfo\">Total: 1, Shown: 1</div></div>"
      ]
     },
     "metadata": {},
     "output_type": "display_data"
    }
   ],
   "source": [
    "PREFIX rdfs: <http://www.w3.org/2000/01/rdf-schema#>\n",
    "PREFIX mesh: <http://id.nlm.nih.gov/mesh/>\n",
    "PREFIX meshv: <http://id.nlm.nih.gov/mesh/vocab#>\n",
    "\n",
    "SELECT *\n",
    "FROM <http://id.nlm.nih.gov/mesh>\n",
    "WHERE {\n",
    "    mesh:M0005831 rdfs:label ?label .\n",
    "    mesh:M0005831 meshv:scopeNote ?definition\n",
    "}"
   ]
  },
  {
   "cell_type": "markdown",
   "metadata": {},
   "source": [
    "## List 10 first MESH resources which contains \"Dengue\" (case insensitive) within its label "
   ]
  },
  {
   "cell_type": "code",
   "execution_count": 4,
   "metadata": {
    "scrolled": true
   },
   "outputs": [
    {
     "data": {
      "text/html": [
       "<div class=\"krn-spql\"><table><tr class=hdr><th>resource</th>\n",
       "<th>label</th></tr><tr class=odd><td class=val><a href=\"http://id.nlm.nih.gov/mesh/C000589763\" target=\"_other\">http://id.nlm.nih.gov/mesh/C000589763</a></td>\n",
       "<td class=val>E-glycoprotein, Dengue virus type 1</td></tr><tr class=even><td class=val><a href=\"http://id.nlm.nih.gov/mesh/M000595893\" target=\"_other\">http://id.nlm.nih.gov/mesh/M000595893</a></td>\n",
       "<td class=val>E-glycoprotein, Dengue virus type 1</td></tr><tr class=odd><td class=val><a href=\"http://id.nlm.nih.gov/mesh/C000589764\" target=\"_other\">http://id.nlm.nih.gov/mesh/C000589764</a></td>\n",
       "<td class=val>E-glycoprotein, Dengue virus type 3</td></tr><tr class=even><td class=val><a href=\"http://id.nlm.nih.gov/mesh/M000595894\" target=\"_other\">http://id.nlm.nih.gov/mesh/M000595894</a></td>\n",
       "<td class=val>E-glycoprotein, Dengue virus type 3</td></tr><tr class=odd><td class=val><a href=\"http://id.nlm.nih.gov/mesh/C000601110\" target=\"_other\">http://id.nlm.nih.gov/mesh/C000601110</a></td>\n",
       "<td class=val>NS4A protein, Dengue virus</td></tr><tr class=even><td class=val><a href=\"http://id.nlm.nih.gov/mesh/M000609755\" target=\"_other\">http://id.nlm.nih.gov/mesh/M000609755</a></td>\n",
       "<td class=val>NS4A protein, Dengue virus</td></tr><tr class=odd><td class=val><a href=\"http://id.nlm.nih.gov/mesh/C051821\" target=\"_other\">http://id.nlm.nih.gov/mesh/C051821</a></td>\n",
       "<td class=val>E-glycoprotein, Dengue virus type 2</td></tr><tr class=even><td class=val><a href=\"http://id.nlm.nih.gov/mesh/M0147349\" target=\"_other\">http://id.nlm.nih.gov/mesh/M0147349</a></td>\n",
       "<td class=val>E-glycoprotein, Dengue virus type 2</td></tr><tr class=odd><td class=val><a href=\"http://id.nlm.nih.gov/mesh/C072281\" target=\"_other\">http://id.nlm.nih.gov/mesh/C072281</a></td>\n",
       "<td class=val>E protein TH Sman, Dengue virus</td></tr><tr class=even><td class=val><a href=\"http://id.nlm.nih.gov/mesh/M0195901\" target=\"_other\">http://id.nlm.nih.gov/mesh/M0195901</a></td>\n",
       "<td class=val>E protein TH Sman, Dengue virus</td></tr></table><div class=\"tinfo\">Total: 10, Shown: 10</div></div>"
      ]
     },
     "metadata": {},
     "output_type": "display_data"
    }
   ],
   "source": [
    "PREFIX rdfs: <http://www.w3.org/2000/01/rdf-schema#>\n",
    "\n",
    "SELECT *\n",
    "FROM <http://id.nlm.nih.gov/mesh>\n",
    "WHERE {\n",
    "  ?resource rdfs:label ?label\n",
    "  FILTER CONTAINS(lcase(str(?label)), \"dengue\")\n",
    "}\n",
    "LIMIT 10"
   ]
  },
  {
   "cell_type": "markdown",
   "metadata": {},
   "source": [
    "## Count all MESH resources which contains \"Dengue\" (case insensitive) within its label"
   ]
  },
  {
   "cell_type": "code",
   "execution_count": 5,
   "metadata": {},
   "outputs": [
    {
     "data": {
      "text/html": [
       "<div class=\"krn-spql\"><table><tr class=hdr><th>total</th></tr><tr class=odd><td class=val>167</td></tr></table><div class=\"tinfo\">Total: 1, Shown: 1</div></div>"
      ]
     },
     "metadata": {},
     "output_type": "display_data"
    }
   ],
   "source": [
    "PREFIX rdfs: <http://www.w3.org/2000/01/rdf-schema#>\n",
    "\n",
    "SELECT (COUNT(*) AS ?total)\n",
    "FROM <http://id.nlm.nih.gov/mesh>\n",
    "WHERE {\n",
    "  ?resource rdfs:label ?label\n",
    "  FILTER CONTAINS(lcase(str(?label)), \"dengue\")\n",
    "}"
   ]
  },
  {
   "cell_type": "markdown",
   "metadata": {},
   "source": [
    "## Setup Ontobee endpoint"
   ]
  },
  {
   "cell_type": "code",
   "execution_count": 6,
   "metadata": {
    "scrolled": true
   },
   "outputs": [
    {
     "data": {
      "text/html": [
       "<div class=\"krn-spql\"><div class=\"magic\">Endpoint set to: http://sparql.hegroup.org/sparql/</div><div class=\"magic\">Display: table</div><div class=\"magic\">Return format: ANY</div><div class=\"magic\">Result maximum size: unlimited</div></div>"
      ],
      "text/plain": [
       "Endpoint set to: http://sparql.hegroup.org/sparql/\n",
       "Display: table\n",
       "Return format: ANY\n",
       "Result maximum size: unlimited\n"
      ]
     },
     "metadata": {},
     "output_type": "display_data"
    }
   ],
   "source": [
    "%endpoint http://sparql.hegroup.org/sparql/\n",
    "%display table\n",
    "%format any\n",
    "%show all"
   ]
  },
  {
   "cell_type": "markdown",
   "metadata": {},
   "source": [
    "## Get \"Dengue shock syndrome\" definition from MONDO (Mondo Disease) Ontology"
   ]
  },
  {
   "cell_type": "code",
   "execution_count": 7,
   "metadata": {},
   "outputs": [
    {
     "data": {
      "text/html": [
       "<div class=\"krn-spql\"><table><tr class=hdr><th>dengue</th>\n",
       "<th>definition</th>\n",
       "<th>category</th>\n",
       "<th>categoryName</th></tr><tr class=odd><td class=val>dengue shock syndrome</td>\n",
       "<td class=val>A dengue disease that involves the most severe form of dengue fever, has_material_basis_in Dengue virus [NCBITaxon:12637] with four serotypes (Dengue virus 1, 2, 3 and 4), which are transmitted_by Aedes mosquito bite. The infection has_symptom easy bruising, has_symptom blood spots, has_symptom bleeding gums, and has_symptom nosebleeds. It is accompanied by circulatory collapse, involves hypotension, narrow pulse pressure (less than or equal to 20mm Hg), or frank shock. The shock occurs after two to six days of symptoms, followed by collapse, weak pulse, and blueness around the mouth.</td>\n",
       "<td class=val><a href=\"http://purl.obolibrary.org/obo/MONDO_0005358\" target=\"_other\">http://purl.obolibrary.org/obo/MONDO_0005358</a></td>\n",
       "<td class=val>Dengue hemorrhagic fever</td></tr></table><div class=\"tinfo\">Total: 1, Shown: 1</div></div>"
      ]
     },
     "metadata": {},
     "output_type": "display_data"
    }
   ],
   "source": [
    "PREFIX rdfs: <http://www.w3.org/2000/01/rdf-schema#>\n",
    "PREFIX obo: <http://purl.obolibrary.org/obo/>\n",
    "\n",
    "SELECT DISTINCT *\n",
    "FROM <http://purl.obolibrary.org/obo/merged/MONDO>\n",
    "WHERE\n",
    "{\n",
    "    obo:MONDO_0000248 rdfs:label ?dengue .\n",
    "    obo:MONDO_0000248 obo:IAO_0000115 ?definition .\n",
    "    obo:MONDO_0000248 rdfs:subClassOf ?category .\n",
    "    ?category rdfs:label ?categoryName\n",
    "}"
   ]
  },
  {
   "cell_type": "markdown",
   "metadata": {},
   "source": [
    "## List 10 first MONDO resources which contains \"Dengue\" (case insensitive) within its label "
   ]
  },
  {
   "cell_type": "code",
   "execution_count": 8,
   "metadata": {},
   "outputs": [
    {
     "data": {
      "text/html": [
       "<div class=\"krn-spql\"><table><tr class=hdr><th>resource</th>\n",
       "<th>label</th></tr><tr class=odd><td class=val><a href=\"http://purl.obolibrary.org/obo/MONDO_0000248\" target=\"_other\">http://purl.obolibrary.org/obo/MONDO_0000248</a></td>\n",
       "<td class=val>dengue shock syndrome</td></tr><tr class=even><td class=val><a href=\"http://purl.obolibrary.org/obo/MONDO_0000259\" target=\"_other\">http://purl.obolibrary.org/obo/MONDO_0000259</a></td>\n",
       "<td class=val>asymptomatic dengue</td></tr><tr class=odd><td class=val><a href=\"http://purl.obolibrary.org/obo/MONDO_0005358\" target=\"_other\">http://purl.obolibrary.org/obo/MONDO_0005358</a></td>\n",
       "<td class=val>Dengue hemorrhagic fever</td></tr><tr class=even><td class=val><a href=\"http://purl.obolibrary.org/obo/MONDO_0005502\" target=\"_other\">http://purl.obolibrary.org/obo/MONDO_0005502</a></td>\n",
       "<td class=val>dengue disease</td></tr><tr class=odd><td class=val><a href=\"http://purl.obolibrary.org/obo/NCBITaxon_11053\" target=\"_other\">http://purl.obolibrary.org/obo/NCBITaxon_11053</a></td>\n",
       "<td class=val>Dengue virus 1</td></tr><tr class=even><td class=val><a href=\"http://purl.obolibrary.org/obo/NCBITaxon_12637\" target=\"_other\">http://purl.obolibrary.org/obo/NCBITaxon_12637</a></td>\n",
       "<td class=val>Dengue virus</td></tr><tr class=odd><td class=val><a href=\"http://purl.obolibrary.org/obo/NCBITaxon_11052\" target=\"_other\">http://purl.obolibrary.org/obo/NCBITaxon_11052</a></td>\n",
       "<td class=val>Dengue virus group</td></tr><tr class=even><td class=val><a href=\"http://purl.obolibrary.org/obo/MONDO_0013713\" target=\"_other\">http://purl.obolibrary.org/obo/MONDO_0013713</a></td>\n",
       "<td class=val>dengue virus, susceptibility to</td></tr></table><div class=\"tinfo\">Total: 8, Shown: 8</div></div>"
      ]
     },
     "metadata": {},
     "output_type": "display_data"
    }
   ],
   "source": [
    "PREFIX rdfs: <http://www.w3.org/2000/01/rdf-schema#>\n",
    "\n",
    "SELECT *\n",
    "FROM <http://purl.obolibrary.org/obo/merged/MONDO>\n",
    "WHERE {\n",
    "  ?resource rdfs:label ?label\n",
    "  FILTER CONTAINS(lcase(str(?label)), \"dengue\")\n",
    "}\n",
    "LIMIT 10"
   ]
  },
  {
   "cell_type": "markdown",
   "metadata": {},
   "source": [
    "## Count all MONDO resources which contains \"Dengue\" (case insensitive) within its label"
   ]
  },
  {
   "cell_type": "code",
   "execution_count": 9,
   "metadata": {},
   "outputs": [
    {
     "data": {
      "text/html": [
       "<div class=\"krn-spql\"><table><tr class=hdr><th>total</th></tr><tr class=odd><td class=val>8</td></tr></table><div class=\"tinfo\">Total: 1, Shown: 1</div></div>"
      ]
     },
     "metadata": {},
     "output_type": "display_data"
    }
   ],
   "source": [
    "PREFIX rdfs: <http://www.w3.org/2000/01/rdf-schema#>\n",
    "\n",
    "SELECT (COUNT(*) AS ?total)\n",
    "FROM <http://purl.obolibrary.org/obo/merged/MONDO>\n",
    "WHERE {\n",
    "  ?resource rdfs:label ?label\n",
    "  FILTER CONTAINS(lcase(str(?label)), \"dengue\")\n",
    "}"
   ]
  },
  {
   "cell_type": "markdown",
   "metadata": {},
   "source": [
    "## Get \"Asymptomatic dengue\" definition from DOID (Human Disease Ontology)¶"
   ]
  },
  {
   "cell_type": "code",
   "execution_count": 10,
   "metadata": {},
   "outputs": [
    {
     "data": {
      "text/html": [
       "<div class=\"krn-spql\"><table><tr class=hdr><th>dengue</th>\n",
       "<th>definition</th>\n",
       "<th>category</th>\n",
       "<th>categoryName</th></tr><tr class=odd><td class=val>asymptomatic dengue</td>\n",
       "<td class=val>A dengue disease that results_in infection, has_material_basis_in Dengue virus [NCBITaxon:12637] with four serotypes (Dengue virus 1, 2, 3 and 4), which are transmitted_by Aedes mosquito bite. The infection has no manifestations of symptoms.</td>\n",
       "<td class=val><a href=\"http://purl.obolibrary.org/obo/DOID_12205\" target=\"_other\">http://purl.obolibrary.org/obo/DOID_12205</a></td>\n",
       "<td class=val>dengue disease</td></tr></table><div class=\"tinfo\">Total: 1, Shown: 1</div></div>"
      ]
     },
     "metadata": {},
     "output_type": "display_data"
    }
   ],
   "source": [
    "PREFIX rdfs: <http://www.w3.org/2000/01/rdf-schema#>\n",
    "PREFIX obo: <http://purl.obolibrary.org/obo/>\n",
    "\n",
    "SELECT DISTINCT *\n",
    "FROM <http://purl.obolibrary.org/obo/merged/DOID>\n",
    "WHERE\n",
    "{\n",
    "    obo:DOID_0050143 rdfs:label ?dengue .\n",
    "    obo:DOID_0050143 obo:IAO_0000115 ?definition .\n",
    "    obo:DOID_0050143 rdfs:subClassOf ?category .\n",
    "    ?category rdfs:label ?categoryName\n",
    "}"
   ]
  },
  {
   "cell_type": "markdown",
   "metadata": {},
   "source": [
    "## List 10 first DOID resources which contains \"Dengue\" (case insensitive) within its label "
   ]
  },
  {
   "cell_type": "code",
   "execution_count": 11,
   "metadata": {},
   "outputs": [
    {
     "data": {
      "text/html": [
       "<div class=\"krn-spql\"><table><tr class=hdr><th>resource</th>\n",
       "<th>label</th></tr><tr class=odd><td class=val><a href=\"http://purl.obolibrary.org/obo/DOID_0050125\" target=\"_other\">http://purl.obolibrary.org/obo/DOID_0050125</a></td>\n",
       "<td class=val>dengue shock syndrome</td></tr><tr class=even><td class=val><a href=\"http://purl.obolibrary.org/obo/DOID_0050143\" target=\"_other\">http://purl.obolibrary.org/obo/DOID_0050143</a></td>\n",
       "<td class=val>asymptomatic dengue</td></tr><tr class=odd><td class=val><a href=\"http://purl.obolibrary.org/obo/DOID_12205\" target=\"_other\">http://purl.obolibrary.org/obo/DOID_12205</a></td>\n",
       "<td class=val>dengue disease</td></tr><tr class=even><td class=val><a href=\"http://purl.obolibrary.org/obo/DOID_12206\" target=\"_other\">http://purl.obolibrary.org/obo/DOID_12206</a></td>\n",
       "<td class=val>dengue hemorrhagic fever</td></tr><tr class=odd><td class=val><a href=\"http://purl.obolibrary.org/obo/NCBITaxon_11053\" target=\"_other\">http://purl.obolibrary.org/obo/NCBITaxon_11053</a></td>\n",
       "<td class=val>Dengue virus 1</td></tr><tr class=even><td class=val><a href=\"http://purl.obolibrary.org/obo/NCBITaxon_12637\" target=\"_other\">http://purl.obolibrary.org/obo/NCBITaxon_12637</a></td>\n",
       "<td class=val>Dengue virus</td></tr><tr class=odd><td class=val><a href=\"http://purl.obolibrary.org/obo/NCBITaxon_11052\" target=\"_other\">http://purl.obolibrary.org/obo/NCBITaxon_11052</a></td>\n",
       "<td class=val>Dengue virus group</td></tr><tr class=even><td class=val><a href=\"http://purl.obolibrary.org/obo/OMIM_614371\" target=\"_other\">http://purl.obolibrary.org/obo/OMIM_614371</a></td>\n",
       "<td class=val>susceptibility to dengue virus</td></tr></table><div class=\"tinfo\">Total: 8, Shown: 8</div></div>"
      ]
     },
     "metadata": {},
     "output_type": "display_data"
    }
   ],
   "source": [
    "PREFIX rdfs: <http://www.w3.org/2000/01/rdf-schema#>\n",
    "\n",
    "SELECT *\n",
    "FROM <http://purl.obolibrary.org/obo/merged/DOID>\n",
    "WHERE {\n",
    "  ?resource rdfs:label ?label\n",
    "  FILTER CONTAINS(lcase(str(?label)), \"dengue\")\n",
    "}\n",
    "LIMIT 10"
   ]
  },
  {
   "cell_type": "markdown",
   "metadata": {},
   "source": [
    "## Count all DOID resources which contains \"Dengue\" (case insensitive) within its label"
   ]
  },
  {
   "cell_type": "code",
   "execution_count": 12,
   "metadata": {},
   "outputs": [
    {
     "data": {
      "text/html": [
       "<div class=\"krn-spql\"><table><tr class=hdr><th>total</th></tr><tr class=odd><td class=val>8</td></tr></table><div class=\"tinfo\">Total: 1, Shown: 1</div></div>"
      ]
     },
     "metadata": {},
     "output_type": "display_data"
    }
   ],
   "source": [
    "PREFIX rdfs: <http://www.w3.org/2000/01/rdf-schema#>\n",
    "\n",
    "SELECT (COUNT(*) AS ?total)\n",
    "FROM <http://purl.obolibrary.org/obo/merged/DOID>\n",
    "WHERE {\n",
    "  ?resource rdfs:label ?label\n",
    "  FILTER CONTAINS(lcase(str(?label)), \"dengue\")\n",
    "}"
   ]
  },
  {
   "cell_type": "markdown",
   "metadata": {},
   "source": [
    "## Setup BioPortal endpoint"
   ]
  },
  {
   "cell_type": "code",
   "execution_count": 13,
   "metadata": {},
   "outputs": [
    {
     "data": {
      "text/html": [
       "<div class=\"krn-spql\"><div class=\"magic\">Endpoint set to: http://sparql.bioontology.org/sparql</div><div class=\"magic\">Display: table</div><div class=\"magic\">Result maximum size: unlimited</div><div class=\"magic\">Return format: ANY</div><div class=\"magic\">Param set: apikey = 1ed557d6-a913-44c7-8097-10fedbf1b72d</div></div>"
      ],
      "text/plain": [
       "Endpoint set to: http://sparql.bioontology.org/sparql\n",
       "Display: table\n",
       "Result maximum size: unlimited\n",
       "Return format: ANY\n",
       "Param set: apikey = 1ed557d6-a913-44c7-8097-10fedbf1b72d\n"
      ]
     },
     "metadata": {},
     "output_type": "display_data"
    }
   ],
   "source": [
    "%endpoint http://sparql.bioontology.org/sparql\n",
    "%display table\n",
    "%show all\n",
    "%format any\n",
    "%qparam apikey 1ed557d6-a913-44c7-8097-10fedbf1b72d"
   ]
  },
  {
   "cell_type": "markdown",
   "metadata": {},
   "source": [
    "## Get \"Dengue hemorrhagic fever\" category with SNOMED CT ontology"
   ]
  },
  {
   "cell_type": "code",
   "execution_count": 14,
   "metadata": {
    "scrolled": true
   },
   "outputs": [
    {
     "data": {
      "text/html": [
       "<div class=\"krn-spql\"><table><tr class=hdr><th>label</th>\n",
       "<th>category</th>\n",
       "<th>categoryName</th></tr><tr class=odd><td class=val>Dengue hemorrhagic fever</td>\n",
       "<td class=val><a href=\"http://purl.bioontology.org/ontology/SNOMEDCT/240523007\" target=\"_other\">http://purl.bioontology.org/ontology/SNOMEDCT/240523007</a></td>\n",
       "<td class=val>Viral hemorrhagic fever</td></tr><tr class=even><td class=val>Dengue hemorrhagic fever</td>\n",
       "<td class=val><a href=\"http://purl.bioontology.org/ontology/SNOMEDCT/38362002\" target=\"_other\">http://purl.bioontology.org/ontology/SNOMEDCT/38362002</a></td>\n",
       "<td class=val>Dengue</td></tr></table><div class=\"tinfo\">Total: 2, Shown: 2</div></div>"
      ]
     },
     "metadata": {},
     "output_type": "display_data"
    }
   ],
   "source": [
    "PREFIX rdfs: <http://www.w3.org/2000/01/rdf-schema#>\n",
    "PREFIX snomed-term: <http://purl.bioontology.org/ontology/SNOMEDCT/>\n",
    "PREFIX skos: <http://www.w3.org/2004/02/skos/core#>\n",
    "\n",
    "SELECT DISTINCT *\n",
    "FROM <http://bioportal.bioontology.org/ontologies/SNOMEDCT>\n",
    "WHERE\n",
    "{\n",
    "    snomed-term:20927009 skos:prefLabel ?label .\n",
    "    snomed-term:20927009 rdfs:subClassOf ?category .\n",
    "    ?category skos:prefLabel ?categoryName\n",
    "}"
   ]
  },
  {
   "cell_type": "markdown",
   "metadata": {},
   "source": [
    "## \"Dengue\" resources search on SNOMED CT ontology was performed using the REST API\n",
    "\n",
    "Code implemented in the Jupyter Notebook named **dengue-rest-search-snomedct** "
   ]
  },
  {
   "cell_type": "markdown",
   "metadata": {},
   "source": [
    "# Using 2 ontologies in the same query"
   ]
  },
  {
   "cell_type": "markdown",
   "metadata": {},
   "source": [
    "## Get all shared resources betwen Dengue Fever Ontology (IDODEN) and Malaria Ontology (IDOMAL) which uses the same label\n",
    "\n",
    "### PS: This query has 3340 results, but we limit to the first 10 results"
   ]
  },
  {
   "cell_type": "code",
   "execution_count": 15,
   "metadata": {},
   "outputs": [
    {
     "data": {
      "text/html": [
       "<div class=\"krn-spql\"><table><tr class=hdr><th>den</th>\n",
       "<th>label</th>\n",
       "<th>mal</th></tr><tr class=odd><td class=val><a href=\"http://purl.obolibrary.org/obo/NCBITaxon_157495\" target=\"_other\">http://purl.obolibrary.org/obo/NCBITaxon_157495</a></td>\n",
       "<td class=val>Stegnogramma griffithii</td>\n",
       "<td class=val><a href=\"http://purl.obolibrary.org/obo/NCBITaxon_157495\" target=\"_other\">http://purl.obolibrary.org/obo/NCBITaxon_157495</a></td></tr><tr class=even><td class=val><a href=\"http://purl.obolibrary.org/obo/NCBITaxon_196669\" target=\"_other\">http://purl.obolibrary.org/obo/NCBITaxon_196669</a></td>\n",
       "<td class=val>Gagnebina calcicola</td>\n",
       "<td class=val><a href=\"http://purl.obolibrary.org/obo/NCBITaxon_196669\" target=\"_other\">http://purl.obolibrary.org/obo/NCBITaxon_196669</a></td></tr><tr class=odd><td class=val><a href=\"http://purl.obolibrary.org/obo/NCBIGene_26939\" target=\"_other\">http://purl.obolibrary.org/obo/NCBIGene_26939</a></td>\n",
       "<td class=val>Polr3e</td>\n",
       "<td class=val><a href=\"http://purl.obolibrary.org/obo/NCBIGene_26939\" target=\"_other\">http://purl.obolibrary.org/obo/NCBIGene_26939</a></td></tr><tr class=even><td class=val><a href=\"http://purl.obolibrary.org/obo/GAZ_00352196\" target=\"_other\">http://purl.obolibrary.org/obo/GAZ_00352196</a></td>\n",
       "<td class=val>Commune of Haleine</td>\n",
       "<td class=val><a href=\"http://purl.obolibrary.org/obo/GAZ_00352196\" target=\"_other\">http://purl.obolibrary.org/obo/GAZ_00352196</a></td></tr><tr class=odd><td class=val><a href=\"http://purl.bioontology.org/ontology/HOMERUN-UHC/MM_CLASS_925\" target=\"_other\">http://purl.bioontology.org/ontology/HOMERUN-UHC/MM_CLASS_925</a></td>\n",
       "<td class=val>POSTPARTUM &amp; POST ABORTION DIAGNOSIS WITHOUT O.R. PROCEDURE (776)</td>\n",
       "<td class=val><a href=\"http://purl.bioontology.org/ontology/HOMERUN-UHC/MM_CLASS_925\" target=\"_other\">http://purl.bioontology.org/ontology/HOMERUN-UHC/MM_CLASS_925</a></td></tr><tr class=even><td class=val><a href=\"http://purl.obolibrary.org/obo/GAZ_00433925\" target=\"_other\">http://purl.obolibrary.org/obo/GAZ_00433925</a></td>\n",
       "<td class=val>Parc Jean-Jacques-Rousseau</td>\n",
       "<td class=val><a href=\"http://purl.obolibrary.org/obo/GAZ_00433925\" target=\"_other\">http://purl.obolibrary.org/obo/GAZ_00433925</a></td></tr><tr class=odd><td class=val><a href=\"http://bioonto.de/mesh.owl#C511158\" target=\"_other\">http://bioonto.de/mesh.owl#C511158</a></td>\n",
       "<td class=val>Vps46 protein, S cerevisiae</td>\n",
       "<td class=val><a href=\"http://bioonto.de/mesh.owl#C511158\" target=\"_other\">http://bioonto.de/mesh.owl#C511158</a></td></tr><tr class=even><td class=val><a href=\"http://purl.obolibrary.org/obo/GAZ_00447118\" target=\"_other\">http://purl.obolibrary.org/obo/GAZ_00447118</a></td>\n",
       "<td class=val>Parish of Ceres</td>\n",
       "<td class=val><a href=\"http://purl.obolibrary.org/obo/GAZ_00447118\" target=\"_other\">http://purl.obolibrary.org/obo/GAZ_00447118</a></td></tr><tr class=odd><td class=val><a href=\"http://purl.obolibrary.org/obo/TRAK_0000830\" target=\"_other\">http://purl.obolibrary.org/obo/TRAK_0000830</a></td>\n",
       "<td class=val>swelling of knee</td>\n",
       "<td class=val><a href=\"http://purl.obolibrary.org/obo/TRAK_0000830\" target=\"_other\">http://purl.obolibrary.org/obo/TRAK_0000830</a></td></tr><tr class=even><td class=val><a href=\"http://purl.obolibrary.org/obo/NCBITaxon_226183\" target=\"_other\">http://purl.obolibrary.org/obo/NCBITaxon_226183</a></td>\n",
       "<td class=val>Ubristes</td>\n",
       "<td class=val><a href=\"http://purl.obolibrary.org/obo/NCBITaxon_226183\" target=\"_other\">http://purl.obolibrary.org/obo/NCBITaxon_226183</a></td></tr></table><div class=\"tinfo\">Total: 10, Shown: 10</div></div>"
      ]
     },
     "metadata": {},
     "output_type": "display_data"
    }
   ],
   "source": [
    "PREFIX meta: <http://bioportal.bioontology.org/metadata/def/>\n",
    "\n",
    "SELECT DISTINCT *\n",
    "WHERE\n",
    "{ \n",
    "   SERVICE <http://bioportal.bioontology.org/ontologies/IDODEN>\n",
    "   {\n",
    "      ?den meta:prefLabel ?label .\n",
    "   }\n",
    "\n",
    "   SERVICE <http://bioportal.bioontology.org/ontologies/IDOMAL>\n",
    "   {\n",
    "      ?mal meta:prefLabel ?label\n",
    "   }\n",
    "   FILTER (?den = ?mal)\n",
    "}\n",
    "LIMIT 10"
   ]
  },
  {
   "cell_type": "markdown",
   "metadata": {},
   "source": [
    "# Queries using only the Dengue Fever Ontology (IDODEN)"
   ]
  },
  {
   "cell_type": "markdown",
   "metadata": {},
   "source": [
    "## List of epidemiological types of dengue fever"
   ]
  },
  {
   "cell_type": "code",
   "execution_count": 16,
   "metadata": {},
   "outputs": [
    {
     "data": {
      "text/html": [
       "<div class=\"krn-spql\"><table><tr class=hdr><th>instance</th>\n",
       "<th>label</th></tr><tr class=odd><td class=val><a href=\"http://anobase.vectorbase.org/idoden/idoden.owl#IDODEN_0000277\" target=\"_other\">http://anobase.vectorbase.org/idoden/idoden.owl#IDODEN_0000277</a></td>\n",
       "<td class=val>introduced dengue fever</td></tr><tr class=even><td class=val><a href=\"http://anobase.vectorbase.org/idoden/idoden.owl#IDODEN_0000282\" target=\"_other\">http://anobase.vectorbase.org/idoden/idoden.owl#IDODEN_0000282</a></td>\n",
       "<td class=val>war and conflict dengue fever</td></tr><tr class=odd><td class=val><a href=\"http://anobase.vectorbase.org/idoden/idoden.owl#IDODEN_0000278\" target=\"_other\">http://anobase.vectorbase.org/idoden/idoden.owl#IDODEN_0000278</a></td>\n",
       "<td class=val>sporadic dengue fever</td></tr><tr class=even><td class=val><a href=\"http://anobase.vectorbase.org/idoden/idoden.owl#IDODEN_0000269\" target=\"_other\">http://anobase.vectorbase.org/idoden/idoden.owl#IDODEN_0000269</a></td>\n",
       "<td class=val>endemic dengue fever</td></tr><tr class=odd><td class=val><a href=\"http://anobase.vectorbase.org/idoden/idoden.owl#IDODEN_0000281\" target=\"_other\">http://anobase.vectorbase.org/idoden/idoden.owl#IDODEN_0000281</a></td>\n",
       "<td class=val>urban dengue fever</td></tr><tr class=even><td class=val><a href=\"http://anobase.vectorbase.org/idoden/idoden.owl#IDODEN_0000272\" target=\"_other\">http://anobase.vectorbase.org/idoden/idoden.owl#IDODEN_0000272</a></td>\n",
       "<td class=val>imported dengue fever</td></tr><tr class=odd><td class=val><a href=\"http://anobase.vectorbase.org/idoden/idoden.owl#IDODEN_0000268\" target=\"_other\">http://anobase.vectorbase.org/idoden/idoden.owl#IDODEN_0000268</a></td>\n",
       "<td class=val>autochthonous dengue fever</td></tr><tr class=even><td class=val><a href=\"http://anobase.vectorbase.org/idoden/idoden.owl#IDODEN_0000280\" target=\"_other\">http://anobase.vectorbase.org/idoden/idoden.owl#IDODEN_0000280</a></td>\n",
       "<td class=val>unstable dengue fever</td></tr><tr class=odd><td class=val><a href=\"http://anobase.vectorbase.org/idoden/idoden.owl#IDODEN_0000279\" target=\"_other\">http://anobase.vectorbase.org/idoden/idoden.owl#IDODEN_0000279</a></td>\n",
       "<td class=val>stable dengue fever</td></tr><tr class=even><td class=val><a href=\"http://anobase.vectorbase.org/idoden/idoden.owl#IDODEN_0000274\" target=\"_other\">http://anobase.vectorbase.org/idoden/idoden.owl#IDODEN_0000274</a></td>\n",
       "<td class=val>induced dengue fever</td></tr></table><div class=\"tinfo\">Total: 10, Shown: 10</div></div>"
      ]
     },
     "metadata": {},
     "output_type": "display_data"
    }
   ],
   "source": [
    "PREFIX rdfs: <http://www.w3.org/2000/01/rdf-schema#>\n",
    "PREFIX idoden: <http://anobase.vectorbase.org/idoden/idoden.owl#>\n",
    "\n",
    "SELECT ?instance ?label\n",
    "FROM <http://bioportal.bioontology.org/ontologies/IDODEN> \n",
    "WHERE {\n",
    "    ?instance rdfs:label ?label .\n",
    "    ?instance rdfs:subClassOf idoden:IDODEN_0000214\n",
    "}"
   ]
  },
  {
   "cell_type": "markdown",
   "metadata": {},
   "source": [
    "## List containing the properties of a rapid diagnostic dengue test product"
   ]
  },
  {
   "cell_type": "code",
   "execution_count": 17,
   "metadata": {},
   "outputs": [
    {
     "data": {
      "text/html": [
       "<div class=\"krn-spql\"><table><tr class=hdr><th>property</th>\n",
       "<th>object</th></tr><tr class=odd><td class=val><a href=\"http://purl.obolibrary.org/obo/IAO_0000115\" target=\"_other\">http://purl.obolibrary.org/obo/IAO_0000115</a></td>\n",
       "<td class=val>A commercial product that provides all necessary components to perform an immunological test for the rapid diagnosis of dengue.</td></tr><tr class=even><td class=val><a href=\"http://purl.obolibrary.org/obo/IAO_0000119\" target=\"_other\">http://purl.obolibrary.org/obo/IAO_0000119</a></td>\n",
       "<td class=val>EM:EM</td></tr><tr class=odd><td class=val><a href=\"http://www.w3.org/2000/01/rdf-schema#subClassOf\" target=\"_other\">http://www.w3.org/2000/01/rdf-schema#subClassOf</a></td>\n",
       "<td class=val><a href=\"http://bioportal.bioontology.org/.well-known/genid/33a788b7-3805-4d08-ac1b-7a77008c8926/69da2010000001b\" target=\"_other\">http://bioportal.bioontology.org/.well-known/genid/33a788b7-3805-4d08-ac1b-7a77008c8926/69da2010000001b</a></td></tr><tr class=even><td class=val><a href=\"http://www.w3.org/2000/01/rdf-schema#subClassOf\" target=\"_other\">http://www.w3.org/2000/01/rdf-schema#subClassOf</a></td>\n",
       "<td class=val><a href=\"http://purl.obolibrary.org/obo/IDOMAL_0000423\" target=\"_other\">http://purl.obolibrary.org/obo/IDOMAL_0000423</a></td></tr><tr class=odd><td class=val><a href=\"http://www.w3.org/1999/02/22-rdf-syntax-ns#type\" target=\"_other\">http://www.w3.org/1999/02/22-rdf-syntax-ns#type</a></td>\n",
       "<td class=val><a href=\"http://www.w3.org/2002/07/owl#Class\" target=\"_other\">http://www.w3.org/2002/07/owl#Class</a></td></tr><tr class=even><td class=val><a href=\"http://bioportal.bioontology.org/metadata/def/prefLabel\" target=\"_other\">http://bioportal.bioontology.org/metadata/def/prefLabel</a></td>\n",
       "<td class=val>dengue rapid diagnostic test product</td></tr><tr class=odd><td class=val><a href=\"http://www.w3.org/2000/01/rdf-schema#label\" target=\"_other\">http://www.w3.org/2000/01/rdf-schema#label</a></td>\n",
       "<td class=val>dengue rapid diagnostic test product</td></tr></table><div class=\"tinfo\">Total: 7, Shown: 7</div></div>"
      ]
     },
     "metadata": {},
     "output_type": "display_data"
    }
   ],
   "source": [
    "PREFIX idoden: <http://anobase.vectorbase.org/idoden/idoden.owl#>\n",
    "\n",
    "SELECT DISTINCT ?property ?object WHERE {\n",
    "\tGRAPH ?g {\n",
    "\t\tidoden:IDODEN_0000283 ?property ?object\n",
    "\t}\n",
    "}"
   ]
  },
  {
   "cell_type": "markdown",
   "metadata": {},
   "source": [
    "## List containing the current rapid diagnostic dengue test products"
   ]
  },
  {
   "cell_type": "code",
   "execution_count": 18,
   "metadata": {},
   "outputs": [
    {
     "data": {
      "text/html": [
       "<div class=\"krn-spql\"><table><tr class=hdr><th>product</th>\n",
       "<th>label</th>\n",
       "<th>definition</th></tr><tr class=odd><td class=val><a href=\"http://anobase.vectorbase.org/idoden/idoden.owl#IDODEN_0000286\" target=\"_other\">http://anobase.vectorbase.org/idoden/idoden.owl#IDODEN_0000286</a></td>\n",
       "<td class=val>Rapid Dengue Test (Dengue NS1 AG)</td>\n",
       "<td class=val>A commercial RDT from SD Inc.</td></tr><tr class=even><td class=val><a href=\"http://anobase.vectorbase.org/idoden/idoden.owl#IDODEN_0000291\" target=\"_other\">http://anobase.vectorbase.org/idoden/idoden.owl#IDODEN_0000291</a></td>\n",
       "<td class=val>Rapid Dengue Test Kit (AccuBioTech)</td>\n",
       "<td class=val>A commercial RDT from AccuBioTech Co., Ltd.</td></tr><tr class=odd><td class=val><a href=\"http://anobase.vectorbase.org/idoden/idoden.owl#IDODEN_0000292\" target=\"_other\">http://anobase.vectorbase.org/idoden/idoden.owl#IDODEN_0000292</a></td>\n",
       "<td class=val>One Step Dengue Test Kit (Lonsino)</td>\n",
       "<td class=val>A commercial RDT from Lonsino Medical Products Co., Ltd.</td></tr><tr class=even><td class=val><a href=\"http://anobase.vectorbase.org/idoden/idoden.owl#IDODEN_0000296\" target=\"_other\">http://anobase.vectorbase.org/idoden/idoden.owl#IDODEN_0000296</a></td>\n",
       "<td class=val>IgG&amp;IgM Rapid Dengue Diagnostic Test Kit  (Diagnos)</td>\n",
       "<td class=val>A commercial RDT from Nantong Diagnos Biotechnology Co., Ltd.</td></tr><tr class=odd><td class=val><a href=\"http://anobase.vectorbase.org/idoden/idoden.owl#IDODEN_0000290\" target=\"_other\">http://anobase.vectorbase.org/idoden/idoden.owl#IDODEN_0000290</a></td>\n",
       "<td class=val>Rapid Dengue Test Kit (Egens)</td>\n",
       "<td class=val>A commercial RDT from Nantong Egens Biotechnology Co., Ltd.</td></tr><tr class=even><td class=val><a href=\"http://anobase.vectorbase.org/idoden/idoden.owl#IDODEN_0000294\" target=\"_other\">http://anobase.vectorbase.org/idoden/idoden.owl#IDODEN_0000294</a></td>\n",
       "<td class=val>Dengue RapidTest Kit (Colloidal Gold)</td>\n",
       "<td class=val>A commercial RDT from Blue Cross Bio-Medical (Beijing) Co., Ltd.</td></tr><tr class=odd><td class=val><a href=\"http://anobase.vectorbase.org/idoden/idoden.owl#IDODEN_0000285\" target=\"_other\">http://anobase.vectorbase.org/idoden/idoden.owl#IDODEN_0000285</a></td>\n",
       "<td class=val>Dengue IgG ELISA kit</td>\n",
       "<td class=val>A commercial RDT from Diagnostic Automation/Cortez Diagnostics Inc.</td></tr><tr class=even><td class=val><a href=\"http://anobase.vectorbase.org/idoden/idoden.owl#IDODEN_0000295\" target=\"_other\">http://anobase.vectorbase.org/idoden/idoden.owl#IDODEN_0000295</a></td>\n",
       "<td class=val>One Step Rapid Dengue IgM/IgG Test Kit (Zibo Yuehang)</td>\n",
       "<td class=val>A commercial RDT from Zibo Yuehang Industrial &amp; Trading Co., Ltd.</td></tr><tr class=odd><td class=val><a href=\"http://anobase.vectorbase.org/idoden/idoden.owl#IDODEN_0000284\" target=\"_other\">http://anobase.vectorbase.org/idoden/idoden.owl#IDODEN_0000284</a></td>\n",
       "<td class=val>Dengue Day 1 Test</td>\n",
       "<td class=val>A commercial RDT from J. Mitra &amp; Co Pvt. Ltd</td></tr><tr class=even><td class=val><a href=\"http://anobase.vectorbase.org/idoden/idoden.owl#IDODEN_0000288\" target=\"_other\">http://anobase.vectorbase.org/idoden/idoden.owl#IDODEN_0000288</a></td>\n",
       "<td class=val>Rapid Dengue Test Kit (Clongene)</td>\n",
       "<td class=val>A commercial RDT from Hangzhou Clongene Biotech Co., Ltd.</td></tr><tr class=odd><td class=val><a href=\"http://anobase.vectorbase.org/idoden/idoden.owl#IDODEN_0000293\" target=\"_other\">http://anobase.vectorbase.org/idoden/idoden.owl#IDODEN_0000293</a></td>\n",
       "<td class=val>Dengue IgG/IgM Rapid Test Kit (Orient Gene Biotech)</td>\n",
       "<td class=val>A commercial RDT from Zhejiang Orient Gene Biotech Co., Ltd.</td></tr><tr class=even><td class=val><a href=\"http://anobase.vectorbase.org/idoden/idoden.owl#IDODEN_0000298\" target=\"_other\">http://anobase.vectorbase.org/idoden/idoden.owl#IDODEN_0000298</a></td>\n",
       "<td class=val>Rapid Dengue IgG/IgM Test Kit - Card (Boson)</td>\n",
       "<td class=val>A commercial RDT from Xiamen Boson Biotech Co Ltd.</td></tr><tr class=odd><td class=val><a href=\"http://anobase.vectorbase.org/idoden/idoden.owl#IDODEN_0000289\" target=\"_other\">http://anobase.vectorbase.org/idoden/idoden.owl#IDODEN_0000289</a></td>\n",
       "<td class=val>Rapid Dengue Test Kit (Shenyang)</td>\n",
       "<td class=val>A commercial RDT from Shenyang LTH Technology Development Co., Ltd.</td></tr><tr class=even><td class=val><a href=\"http://anobase.vectorbase.org/idoden/idoden.owl#IDODEN_0000287\" target=\"_other\">http://anobase.vectorbase.org/idoden/idoden.owl#IDODEN_0000287</a></td>\n",
       "<td class=val>Dengue IgM and IgG Combo Rapid Test</td>\n",
       "<td class=val>A commercial RDT from Core Technology Co Ltd.</td></tr><tr class=odd><td class=val><a href=\"http://anobase.vectorbase.org/idoden/idoden.owl#IDODEN_0000297\" target=\"_other\">http://anobase.vectorbase.org/idoden/idoden.owl#IDODEN_0000297</a></td>\n",
       "<td class=val>Dengue IgG and IgM Antibody Rapid Test Kit (Kewei)</td>\n",
       "<td class=val>A commercial RDT from Beijing Kewei Clinical Diagnostic Reagent Inc.</td></tr></table><div class=\"tinfo\">Total: 15, Shown: 15</div></div>"
      ]
     },
     "metadata": {},
     "output_type": "display_data"
    }
   ],
   "source": [
    "PREFIX rdfs: <http://www.w3.org/2000/01/rdf-schema#>\n",
    "PREFIX idoden: <http://anobase.vectorbase.org/idoden/idoden.owl#>\n",
    "PREFIX obo: <http://purl.obolibrary.org/obo/>\n",
    "\n",
    "SELECT ?product ?label ?definition \n",
    "FROM <http://bioportal.bioontology.org/ontologies/IDODEN> \n",
    "WHERE {\n",
    "    ?product rdfs:label ?label .\n",
    "    ?product rdfs:subClassOf idoden:IDODEN_0000283 .\n",
    "    ?product obo:IAO_0000115 ?definition \n",
    "}"
   ]
  },
  {
   "cell_type": "markdown",
   "metadata": {},
   "source": [
    "## List containing laboratory tests used to diagnose dengue cases "
   ]
  },
  {
   "cell_type": "code",
   "execution_count": 19,
   "metadata": {
    "scrolled": true
   },
   "outputs": [
    {
     "data": {
      "text/html": [
       "<div class=\"krn-spql\"><table><tr class=hdr><th>test</th>\n",
       "<th>testLabel</th>\n",
       "<th>category</th>\n",
       "<th>categoryLabel</th></tr><tr class=odd><td class=val><a href=\"http://anobase.vectorbase.org/idoden/idoden.owl#IDODEN_0000096\" target=\"_other\">http://anobase.vectorbase.org/idoden/idoden.owl#IDODEN_0000096</a></td>\n",
       "<td class=val>Real-time RT-PCR</td>\n",
       "<td class=val><a href=\"http://purl.bioontology.org/ontology/CSP/4009-0032\" target=\"_other\">http://purl.bioontology.org/ontology/CSP/4009-0032</a></td>\n",
       "<td class=val>nucleic acid detection</td></tr><tr class=even><td class=val><a href=\"http://anobase.vectorbase.org/idoden/idoden.owl#IDODEN_0000254\" target=\"_other\">http://anobase.vectorbase.org/idoden/idoden.owl#IDODEN_0000254</a></td>\n",
       "<td class=val>NS1 detection assay</td>\n",
       "<td class=val><a href=\"http://anobase.vectorbase.org/idoden/idoden.owl#IDODEN_0000253\" target=\"_other\">http://anobase.vectorbase.org/idoden/idoden.owl#IDODEN_0000253</a></td>\n",
       "<td class=val>dengue antigen detection</td></tr><tr class=odd><td class=val><a href=\"http://www.ebi.ac.uk/efo/EFO_0004586\" target=\"_other\">http://www.ebi.ac.uk/efo/EFO_0004586</a></td>\n",
       "<td class=val>complete blood cell count</td>\n",
       "<td class=val><a href=\"http://purl.bioontology.org/ontology/MSH/D006403\" target=\"_other\">http://purl.bioontology.org/ontology/MSH/D006403</a></td>\n",
       "<td class=val>hematologic test</td></tr><tr class=even><td class=val><a href=\"http://purl.bioontology.org/ontology/CSP/1554-7543\" target=\"_other\">http://purl.bioontology.org/ontology/CSP/1554-7543</a></td>\n",
       "<td class=val>complement fixation test</td>\n",
       "<td class=val><a href=\"http://purl.bioontology.org/ontology/MSH/D012698\" target=\"_other\">http://purl.bioontology.org/ontology/MSH/D012698</a></td>\n",
       "<td class=val>serological assay</td></tr><tr class=odd><td class=val><a href=\"http://purl.obolibrary.org/obo/VO_0000210\" target=\"_other\">http://purl.obolibrary.org/obo/VO_0000210</a></td>\n",
       "<td class=val>hemagglutination-inhibition assay</td>\n",
       "<td class=val><a href=\"http://purl.bioontology.org/ontology/MSH/D012698\" target=\"_other\">http://purl.bioontology.org/ontology/MSH/D012698</a></td>\n",
       "<td class=val>serological assay</td></tr><tr class=even><td class=val><a href=\"http://purl.bioontology.org/ontology/MSH/D009500\" target=\"_other\">http://purl.bioontology.org/ontology/MSH/D009500</a></td>\n",
       "<td class=val>neutralization test</td>\n",
       "<td class=val><a href=\"http://purl.bioontology.org/ontology/MSH/D012698\" target=\"_other\">http://purl.bioontology.org/ontology/MSH/D012698</a></td>\n",
       "<td class=val>serological assay</td></tr><tr class=odd><td class=val><a href=\"http://purl.obolibrary.org/obo/OBI_0000552\" target=\"_other\">http://purl.obolibrary.org/obo/OBI_0000552</a></td>\n",
       "<td class=val>reverse transcribed polymerase chain reaction</td>\n",
       "<td class=val><a href=\"http://purl.bioontology.org/ontology/CSP/4009-0032\" target=\"_other\">http://purl.bioontology.org/ontology/CSP/4009-0032</a></td>\n",
       "<td class=val>nucleic acid detection</td></tr><tr class=even><td class=val><a href=\"http://anobase.vectorbase.org/idoden/idoden.owl#IDODEN_0000097\" target=\"_other\">http://anobase.vectorbase.org/idoden/idoden.owl#IDODEN_0000097</a></td>\n",
       "<td class=val>isothermal amplification assay</td>\n",
       "<td class=val><a href=\"http://purl.bioontology.org/ontology/CSP/4009-0032\" target=\"_other\">http://purl.bioontology.org/ontology/CSP/4009-0032</a></td>\n",
       "<td class=val>nucleic acid detection</td></tr></table><div class=\"tinfo\">Total: 8, Shown: 8</div></div>"
      ]
     },
     "metadata": {},
     "output_type": "display_data"
    }
   ],
   "source": [
    "PREFIX rdfs: <http://www.w3.org/2000/01/rdf-schema#>\n",
    "PREFIX obo: <http://purl.obolibrary.org/obo/>\n",
    "\n",
    "SELECT ?test ?testLabel ?category ?categoryLabel\n",
    "FROM <http://bioportal.bioontology.org/ontologies/IDODEN> \n",
    "WHERE {\n",
    "    ?test rdfs:label ?testLabel .\n",
    "    ?test rdfs:subClassOf ?category .\n",
    "    ?category rdfs:subClassOf obo:OGMS_0000056 .\n",
    "    ?category rdfs:label ?categoryLabel\n",
    "}"
   ]
  },
  {
   "cell_type": "markdown",
   "metadata": {},
   "source": [
    "## List containing the dengue virus samples with the serotype identification\n",
    "\n",
    "### PS: This query has 3214, but we limit to the first 10 results"
   ]
  },
  {
   "cell_type": "code",
   "execution_count": 20,
   "metadata": {},
   "outputs": [
    {
     "data": {
      "text/html": [
       "<div class=\"krn-spql\"><table><tr class=hdr><th>virus</th>\n",
       "<th>name</th>\n",
       "<th>serotype</th>\n",
       "<th>serotypeLabel</th></tr><tr class=odd><td class=val><a href=\"http://anobase.vectorbase.org/idoden/idoden.owl#IDODEN_0001394\" target=\"_other\">http://anobase.vectorbase.org/idoden/idoden.owl#IDODEN_0001394</a></td>\n",
       "<td class=val>DENV-1/VN/BID-V4022/2008(1)</td>\n",
       "<td class=val><a href=\"http://anobase.vectorbase.org/idoden/idoden.owl#IDODEN_0000041\" target=\"_other\">http://anobase.vectorbase.org/idoden/idoden.owl#IDODEN_0000041</a></td>\n",
       "<td class=val>dengue serotype 1 virion</td></tr><tr class=even><td class=val><a href=\"http://anobase.vectorbase.org/idoden/idoden.owl#IDODEN_0002623\" target=\"_other\">http://anobase.vectorbase.org/idoden/idoden.owl#IDODEN_0002623</a></td>\n",
       "<td class=val>New Guinea C/PUO-218 hybrid(2)</td>\n",
       "<td class=val><a href=\"http://anobase.vectorbase.org/idoden/idoden.owl#IDODEN_0000042\" target=\"_other\">http://anobase.vectorbase.org/idoden/idoden.owl#IDODEN_0000042</a></td>\n",
       "<td class=val>dengue serotype 2 virion</td></tr><tr class=odd><td class=val><a href=\"http://anobase.vectorbase.org/idoden/idoden.owl#IDODEN_0001072\" target=\"_other\">http://anobase.vectorbase.org/idoden/idoden.owl#IDODEN_0001072</a></td>\n",
       "<td class=val>DENV-1/VN/BID-V2718/2006(1)</td>\n",
       "<td class=val><a href=\"http://anobase.vectorbase.org/idoden/idoden.owl#IDODEN_0000041\" target=\"_other\">http://anobase.vectorbase.org/idoden/idoden.owl#IDODEN_0000041</a></td>\n",
       "<td class=val>dengue serotype 1 virion</td></tr><tr class=even><td class=val><a href=\"http://anobase.vectorbase.org/idoden/idoden.owl#IDODEN_0002073\" target=\"_other\">http://anobase.vectorbase.org/idoden/idoden.owl#IDODEN_0002073</a></td>\n",
       "<td class=val>DENV-2/NI/BID-V609/2005(2)</td>\n",
       "<td class=val><a href=\"http://anobase.vectorbase.org/idoden/idoden.owl#IDODEN_0000042\" target=\"_other\">http://anobase.vectorbase.org/idoden/idoden.owl#IDODEN_0000042</a></td>\n",
       "<td class=val>dengue serotype 2 virion</td></tr><tr class=odd><td class=val><a href=\"http://anobase.vectorbase.org/idoden/idoden.owl#IDODEN_0001398\" target=\"_other\">http://anobase.vectorbase.org/idoden/idoden.owl#IDODEN_0001398</a></td>\n",
       "<td class=val>DENV-1/VN/BID-V4027/2008(1)</td>\n",
       "<td class=val><a href=\"http://anobase.vectorbase.org/idoden/idoden.owl#IDODEN_0000041\" target=\"_other\">http://anobase.vectorbase.org/idoden/idoden.owl#IDODEN_0000041</a></td>\n",
       "<td class=val>dengue serotype 1 virion</td></tr><tr class=even><td class=val><a href=\"http://anobase.vectorbase.org/idoden/idoden.owl#IDODEN_0001935\" target=\"_other\">http://anobase.vectorbase.org/idoden/idoden.owl#IDODEN_0001935</a></td>\n",
       "<td class=val>DENV-2/NI/BID-V1224/2007(2)</td>\n",
       "<td class=val><a href=\"http://anobase.vectorbase.org/idoden/idoden.owl#IDODEN_0000042\" target=\"_other\">http://anobase.vectorbase.org/idoden/idoden.owl#IDODEN_0000042</a></td>\n",
       "<td class=val>dengue serotype 2 virion</td></tr><tr class=odd><td class=val><a href=\"http://anobase.vectorbase.org/idoden/idoden.owl#IDODEN_0002191\" target=\"_other\">http://anobase.vectorbase.org/idoden/idoden.owl#IDODEN_0002191</a></td>\n",
       "<td class=val>DENV-2/TH/BID-V2308/2001(2)</td>\n",
       "<td class=val><a href=\"http://anobase.vectorbase.org/idoden/idoden.owl#IDODEN_0000042\" target=\"_other\">http://anobase.vectorbase.org/idoden/idoden.owl#IDODEN_0000042</a></td>\n",
       "<td class=val>dengue serotype 2 virion</td></tr><tr class=even><td class=val><a href=\"http://anobase.vectorbase.org/idoden/idoden.owl#IDODEN_0002901\" target=\"_other\">http://anobase.vectorbase.org/idoden/idoden.owl#IDODEN_0002901</a></td>\n",
       "<td class=val>DENV-3/IPC/BID-V3831/2007(3)</td>\n",
       "<td class=val><a href=\"http://anobase.vectorbase.org/idoden/idoden.owl#IDODEN_0000043\" target=\"_other\">http://anobase.vectorbase.org/idoden/idoden.owl#IDODEN_0000043</a></td>\n",
       "<td class=val>dengue serotype 3 virion</td></tr><tr class=odd><td class=val><a href=\"http://anobase.vectorbase.org/idoden/idoden.owl#IDODEN_0000666\" target=\"_other\">http://anobase.vectorbase.org/idoden/idoden.owl#IDODEN_0000666</a></td>\n",
       "<td class=val>DENV-1/NI/BID-V653/2004(1)</td>\n",
       "<td class=val><a href=\"http://anobase.vectorbase.org/idoden/idoden.owl#IDODEN_0000041\" target=\"_other\">http://anobase.vectorbase.org/idoden/idoden.owl#IDODEN_0000041</a></td>\n",
       "<td class=val>dengue serotype 1 virion</td></tr><tr class=even><td class=val><a href=\"http://anobase.vectorbase.org/idoden/idoden.owl#IDODEN_0001908\" target=\"_other\">http://anobase.vectorbase.org/idoden/idoden.owl#IDODEN_0001908</a></td>\n",
       "<td class=val>DENV-2/MX/BID-V3763/2008</td>\n",
       "<td class=val><a href=\"http://anobase.vectorbase.org/idoden/idoden.owl#IDODEN_0000042\" target=\"_other\">http://anobase.vectorbase.org/idoden/idoden.owl#IDODEN_0000042</a></td>\n",
       "<td class=val>dengue serotype 2 virion</td></tr></table><div class=\"tinfo\">Total: 10, Shown: 10</div></div>"
      ]
     },
     "metadata": {},
     "output_type": "display_data"
    }
   ],
   "source": [
    "PREFIX rdfs: <http://www.w3.org/2000/01/rdf-schema#>\n",
    "PREFIX idoden: <http://anobase.vectorbase.org/idoden/idoden.owl#>\n",
    "\n",
    "SELECT ?virus ?name ?serotype ?serotypeLabel\n",
    "FROM <http://bioportal.bioontology.org/ontologies/IDODEN> \n",
    "WHERE {\n",
    "    ?virus rdfs:label ?name .\n",
    "    ?virus rdfs:subClassOf ?serotype .\n",
    "    ?serotype rdfs:subClassOf idoden:IDODEN_0000002 .\n",
    "    ?serotype rdfs:label ?serotypeLabel\n",
    "}\n",
    "LIMIT 10"
   ]
  },
  {
   "cell_type": "markdown",
   "metadata": {},
   "source": [
    "## List of *Aedes aegypti* properties"
   ]
  },
  {
   "cell_type": "code",
   "execution_count": 21,
   "metadata": {
    "scrolled": true
   },
   "outputs": [
    {
     "data": {
      "text/html": [
       "<div class=\"krn-spql\"><table><tr class=hdr><th>propery</th>\n",
       "<th>value</th></tr><tr class=odd><td class=val><a href=\"http://www.w3.org/1999/02/22-rdf-syntax-ns#type\" target=\"_other\">http://www.w3.org/1999/02/22-rdf-syntax-ns#type</a></td>\n",
       "<td class=val><a href=\"http://www.w3.org/2002/07/owl#Class\" target=\"_other\">http://www.w3.org/2002/07/owl#Class</a></td></tr><tr class=even><td class=val><a href=\"http://www.w3.org/2000/01/rdf-schema#label\" target=\"_other\">http://www.w3.org/2000/01/rdf-schema#label</a></td>\n",
       "<td class=val>Aedes aegypti</td></tr><tr class=odd><td class=val><a href=\"http://www.w3.org/2000/01/rdf-schema#subClassOf\" target=\"_other\">http://www.w3.org/2000/01/rdf-schema#subClassOf</a></td>\n",
       "<td class=val><a href=\"http://purl.obolibrary.org/obo/NCBITaxon_7158\" target=\"_other\">http://purl.obolibrary.org/obo/NCBITaxon_7158</a></td></tr><tr class=even><td class=val><a href=\"http://www.w3.org/2000/01/rdf-schema#subClassOf\" target=\"_other\">http://www.w3.org/2000/01/rdf-schema#subClassOf</a></td>\n",
       "<td class=val><a href=\"http://bioportal.bioontology.org/.well-known/genid/33a788b7-3805-4d08-ac1b-7a77008c8926/39ea2010000000c\" target=\"_other\">http://bioportal.bioontology.org/.well-known/genid/33a788b7-3805-4d08-ac1b-7a77008c8926/39ea2010000000c</a></td></tr><tr class=odd><td class=val><a href=\"http://bioportal.bioontology.org/metadata/def/prefLabel\" target=\"_other\">http://bioportal.bioontology.org/metadata/def/prefLabel</a></td>\n",
       "<td class=val>Aedes aegypti</td></tr><tr class=even><td class=val><a href=\"http://purl.obolibrary.org/obo/IAO_0000119\" target=\"_other\">http://purl.obolibrary.org/obo/IAO_0000119</a></td>\n",
       "<td class=val>NCBITaxon_7159</td></tr><tr class=odd><td class=val><a href=\"http://purl.obolibrary.org/obo/IAO_0000412\" target=\"_other\">http://purl.obolibrary.org/obo/IAO_0000412</a></td>\n",
       "<td class=val>http://purl.obolibrary.org/obo/ncbitaxon.owl</td></tr><tr class=even><td class=val><a href=\"http://www.geneontology.org/formats/oboInOwl#hasRelatedSynonym\" target=\"_other\">http://www.geneontology.org/formats/oboInOwl#hasRelatedSynonym</a></td>\n",
       "<td class=val>Stegomyia aegypti</td></tr><tr class=odd><td class=val><a href=\"http://www.geneontology.org/formats/oboInOwl#hasSynonym\" target=\"_other\">http://www.geneontology.org/formats/oboInOwl#hasSynonym</a></td>\n",
       "<td class=val>Ae. aegypti</td></tr><tr class=even><td class=val><a href=\"http://www.geneontology.org/formats/oboInOwl#hasSynonym\" target=\"_other\">http://www.geneontology.org/formats/oboInOwl#hasSynonym</a></td>\n",
       "<td class=val>yellow fever mosquito</td></tr></table><div class=\"tinfo\">Total: 10, Shown: 10</div></div>"
      ]
     },
     "metadata": {},
     "output_type": "display_data"
    }
   ],
   "source": [
    "PREFIX obo: <http://purl.obolibrary.org/obo/>\n",
    "\n",
    "SELECT *\n",
    "FROM <http://bioportal.bioontology.org/ontologies/IDODEN> \n",
    "WHERE {\n",
    "    obo:NCBITaxon_7159 ?propery ?value\n",
    "}"
   ]
  },
  {
   "cell_type": "markdown",
   "metadata": {},
   "source": [
    "## List contaning Aedes vector populations"
   ]
  },
  {
   "cell_type": "code",
   "execution_count": 22,
   "metadata": {},
   "outputs": [
    {
     "data": {
      "text/html": [
       "<div class=\"krn-spql\"><table><tr class=hdr><th>instance</th>\n",
       "<th>label</th></tr><tr class=odd><td class=val><a href=\"http://anobase.vectorbase.org/idoden/idoden.owl#IDODEN_0003640\" target=\"_other\">http://anobase.vectorbase.org/idoden/idoden.owl#IDODEN_0003640</a></td>\n",
       "<td class=val>Aedes polynesiensis vector population</td></tr><tr class=even><td class=val><a href=\"http://anobase.vectorbase.org/idoden/idoden.owl#IDODEN_0003638\" target=\"_other\">http://anobase.vectorbase.org/idoden/idoden.owl#IDODEN_0003638</a></td>\n",
       "<td class=val>Aedes aegypti vector population</td></tr><tr class=odd><td class=val><a href=\"http://anobase.vectorbase.org/idoden/idoden.owl#IDODEN_0003639\" target=\"_other\">http://anobase.vectorbase.org/idoden/idoden.owl#IDODEN_0003639</a></td>\n",
       "<td class=val>Aedes albopictus vector population</td></tr><tr class=even><td class=val><a href=\"http://anobase.vectorbase.org/idoden/idoden.owl#IDODEN_0003641\" target=\"_other\">http://anobase.vectorbase.org/idoden/idoden.owl#IDODEN_0003641</a></td>\n",
       "<td class=val>Aedes scutellaris vector population</td></tr></table><div class=\"tinfo\">Total: 4, Shown: 4</div></div>"
      ]
     },
     "metadata": {},
     "output_type": "display_data"
    }
   ],
   "source": [
    "PREFIX rdfs: <http://www.w3.org/2000/01/rdf-schema#>\n",
    "PREFIX idoden: <http://anobase.vectorbase.org/idoden/idoden.owl#>\n",
    "\n",
    "SELECT ?instance ?label\n",
    "FROM <http://bioportal.bioontology.org/ontologies/IDODEN> \n",
    "WHERE {\n",
    "    ?instance rdfs:label ?label .\n",
    "    ?instance rdfs:subClassOf idoden:IDODEN_0000229\n",
    "}"
   ]
  },
  {
   "cell_type": "markdown",
   "metadata": {},
   "source": [
    "## List containing types of insecticide resistance that mosquitoes can have"
   ]
  },
  {
   "cell_type": "code",
   "execution_count": 23,
   "metadata": {},
   "outputs": [
    {
     "data": {
      "text/html": [
       "<div class=\"krn-spql\"><table><tr class=hdr><th>resistance</th>\n",
       "<th>resistanceLabel</th>\n",
       "<th>category</th>\n",
       "<th>categoryLabel</th></tr><tr class=odd><td class=val><a href=\"http://purl.obolibrary.org/obo/MIRO_00000128\" target=\"_other\">http://purl.obolibrary.org/obo/MIRO_00000128</a></td>\n",
       "<td class=val>GABA receptor mediated resistance</td>\n",
       "<td class=val><a href=\"http://purl.obolibrary.org/obo/MIRO_00000004\" target=\"_other\">http://purl.obolibrary.org/obo/MIRO_00000004</a></td>\n",
       "<td class=val>target-site resistance</td></tr><tr class=even><td class=val><a href=\"http://purl.obolibrary.org/obo/MIRO_00000028\" target=\"_other\">http://purl.obolibrary.org/obo/MIRO_00000028</a></td>\n",
       "<td class=val>stimulus independent resistance</td>\n",
       "<td class=val><a href=\"http://purl.obolibrary.org/obo/MIRO_00000005\" target=\"_other\">http://purl.obolibrary.org/obo/MIRO_00000005</a></td>\n",
       "<td class=val>behavioural resistance</td></tr><tr class=odd><td class=val><a href=\"http://purl.obolibrary.org/obo/MIRO_00000014\" target=\"_other\">http://purl.obolibrary.org/obo/MIRO_00000014</a></td>\n",
       "<td class=val>Glutathione S-transferase resistance</td>\n",
       "<td class=val><a href=\"http://purl.obolibrary.org/obo/MIRO_00000003\" target=\"_other\">http://purl.obolibrary.org/obo/MIRO_00000003</a></td>\n",
       "<td class=val>metabolic resistance</td></tr><tr class=even><td class=val><a href=\"http://purl.obolibrary.org/obo/MIRO_00000129\" target=\"_other\">http://purl.obolibrary.org/obo/MIRO_00000129</a></td>\n",
       "<td class=val>midgut receptor mediated resistance</td>\n",
       "<td class=val><a href=\"http://purl.obolibrary.org/obo/MIRO_00000004\" target=\"_other\">http://purl.obolibrary.org/obo/MIRO_00000004</a></td>\n",
       "<td class=val>target-site resistance</td></tr><tr class=odd><td class=val><a href=\"http://purl.obolibrary.org/obo/MIRO_00000015\" target=\"_other\">http://purl.obolibrary.org/obo/MIRO_00000015</a></td>\n",
       "<td class=val>P450 monoxygenases resistance</td>\n",
       "<td class=val><a href=\"http://purl.obolibrary.org/obo/MIRO_00000003\" target=\"_other\">http://purl.obolibrary.org/obo/MIRO_00000003</a></td>\n",
       "<td class=val>metabolic resistance</td></tr><tr class=even><td class=val><a href=\"http://purl.obolibrary.org/obo/MIRO_00000006\" target=\"_other\">http://purl.obolibrary.org/obo/MIRO_00000006</a></td>\n",
       "<td class=val>reduced penetration</td>\n",
       "<td class=val><a href=\"http://purl.obolibrary.org/obo/MIRO_00000077\" target=\"_other\">http://purl.obolibrary.org/obo/MIRO_00000077</a></td>\n",
       "<td class=val>cuticle permeability related resistance</td></tr><tr class=odd><td class=val><a href=\"http://purl.obolibrary.org/obo/MIRO_00000012\" target=\"_other\">http://purl.obolibrary.org/obo/MIRO_00000012</a></td>\n",
       "<td class=val>carboxysterase resistance</td>\n",
       "<td class=val><a href=\"http://purl.obolibrary.org/obo/MIRO_00000003\" target=\"_other\">http://purl.obolibrary.org/obo/MIRO_00000003</a></td>\n",
       "<td class=val>metabolic resistance</td></tr><tr class=even><td class=val><a href=\"http://purl.obolibrary.org/obo/MIRO_00000130\" target=\"_other\">http://purl.obolibrary.org/obo/MIRO_00000130</a></td>\n",
       "<td class=val>nicotinic receptor mediated resistance</td>\n",
       "<td class=val><a href=\"http://purl.obolibrary.org/obo/MIRO_00000004\" target=\"_other\">http://purl.obolibrary.org/obo/MIRO_00000004</a></td>\n",
       "<td class=val>target-site resistance</td></tr><tr class=odd><td class=val><a href=\"http://purl.obolibrary.org/obo/MIRO_00000127\" target=\"_other\">http://purl.obolibrary.org/obo/MIRO_00000127</a></td>\n",
       "<td class=val>AChE mediated resistance</td>\n",
       "<td class=val><a href=\"http://purl.obolibrary.org/obo/MIRO_00000004\" target=\"_other\">http://purl.obolibrary.org/obo/MIRO_00000004</a></td>\n",
       "<td class=val>target-site resistance</td></tr><tr class=even><td class=val><a href=\"http://purl.obolibrary.org/obo/MIRO_00000131\" target=\"_other\">http://purl.obolibrary.org/obo/MIRO_00000131</a></td>\n",
       "<td class=val>sodium channel mediated resistance</td>\n",
       "<td class=val><a href=\"http://purl.obolibrary.org/obo/MIRO_00000004\" target=\"_other\">http://purl.obolibrary.org/obo/MIRO_00000004</a></td>\n",
       "<td class=val>target-site resistance</td></tr><tr class=odd><td class=val><a href=\"http://purl.obolibrary.org/obo/MIRO_00000007\" target=\"_other\">http://purl.obolibrary.org/obo/MIRO_00000007</a></td>\n",
       "<td class=val>stimulus dependent resistance</td>\n",
       "<td class=val><a href=\"http://purl.obolibrary.org/obo/MIRO_00000005\" target=\"_other\">http://purl.obolibrary.org/obo/MIRO_00000005</a></td>\n",
       "<td class=val>behavioural resistance</td></tr><tr class=even><td class=val><a href=\"http://purl.obolibrary.org/obo/MIRO_00000078\" target=\"_other\">http://purl.obolibrary.org/obo/MIRO_00000078</a></td>\n",
       "<td class=val>enhanced excretion</td>\n",
       "<td class=val><a href=\"http://purl.obolibrary.org/obo/MIRO_00000077\" target=\"_other\">http://purl.obolibrary.org/obo/MIRO_00000077</a></td>\n",
       "<td class=val>cuticle permeability related resistance</td></tr></table><div class=\"tinfo\">Total: 12, Shown: 12</div></div>"
      ]
     },
     "metadata": {},
     "output_type": "display_data"
    }
   ],
   "source": [
    "PREFIX rdfs: <http://www.w3.org/2000/01/rdf-schema#>\n",
    "PREFIX obo: <http://purl.obolibrary.org/obo/>\n",
    "\n",
    "SELECT ?resistance ?resistanceLabel ?category ?categoryLabel\n",
    "FROM <http://bioportal.bioontology.org/ontologies/IDODEN> \n",
    "WHERE {\n",
    "    ?resistance rdfs:label ?resistanceLabel .\n",
    "    ?resistance rdfs:subClassOf ?category .\n",
    "    ?category rdfs:subClassOf obo:MIRO_00000021 . # resistance to single insecticide\n",
    "    ?category rdfs:label ?categoryLabel\n",
    "}"
   ]
  },
  {
   "cell_type": "code",
   "execution_count": null,
   "metadata": {},
   "outputs": [],
   "source": []
  }
 ],
 "metadata": {
  "kernelspec": {
   "display_name": "SPARQL",
   "language": "sparql",
   "name": "sparql"
  },
  "language_info": {
   "codemirror_mode": {
    "name": "sparql"
   },
   "mimetype": "application/sparql-query",
   "name": "sparql",
   "pygments_lexer": "sparql-nb"
  }
 },
 "nbformat": 4,
 "nbformat_minor": 2
}
